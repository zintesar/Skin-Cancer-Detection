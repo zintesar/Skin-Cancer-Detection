{
 "cells": [
  {
   "cell_type": "code",
   "execution_count": 1,
   "metadata": {},
   "outputs": [
    {
     "name": "stdout",
     "output_type": "stream",
     "text": [
      "malignant\n",
      "malignant\n",
      "malignant\n",
      "malignant\n",
      "malignant\n",
      "malignant\n",
      "malignant\n",
      "benign\n",
      "malignant\n",
      "malignant\n",
      "malignant\n",
      "benign\n",
      "malignant\n",
      "benign\n",
      "malignant\n",
      "malignant\n",
      "malignant\n",
      "benign\n",
      "malignant\n",
      "malignant\n",
      "malignant\n",
      "malignant\n",
      "malignant\n",
      "malignant\n",
      "malignant\n",
      "benign\n",
      "malignant\n",
      "benign\n",
      "malignant\n",
      "malignant\n",
      "malignant\n",
      "benign\n",
      "malignant\n",
      "malignant\n",
      "malignant\n",
      "malignant\n",
      "malignant\n",
      "malignant\n",
      "malignant\n",
      "malignant\n",
      "malignant\n",
      "benign\n",
      "malignant\n",
      "malignant\n",
      "malignant\n",
      "malignant\n",
      "malignant\n",
      "malignant\n",
      "malignant\n",
      "malignant\n"
     ]
    }
   ],
   "source": [
    "import cv2\n",
    "import tensorflow as tf\n",
    "import matplotlib.pyplot as plt\n",
    "\n",
    "CATEGORIES = [\"malignant\",\"benign\"]\n",
    "\n",
    "def prepare(filepath):\n",
    "    IMG_SIZE = 128\n",
    "    img_array = cv2.imread(filepath,cv2.IMREAD_GRAYSCALE)\n",
    "    image_array = img_array\n",
    "    new_array = cv2.resize(img_array,(IMG_SIZE,IMG_SIZE))\n",
    "    #plt.imshow(new_array, cmap='gray')  \n",
    "    #plt.show() \n",
    "    return new_array.reshape(-1,IMG_SIZE,IMG_SIZE,1)\n",
    "\n",
    "model = tf.keras.models.load_model(\"skincan_cnn.model\")\n",
    "\n",
    "for i in range(1,51):\n",
    "    prediction = model.predict([prepare(f\"C:/Users/alu/Desktop/final thesis final/cnn_f/test/malignant/m ({i}).jpg\")])\n",
    "    print(CATEGORIES[int(prediction[0][0])])\n"
   ]
  },
  {
   "cell_type": "code",
   "execution_count": null,
   "metadata": {},
   "outputs": [],
   "source": []
  },
  {
   "cell_type": "code",
   "execution_count": null,
   "metadata": {},
   "outputs": [],
   "source": []
  },
  {
   "cell_type": "code",
   "execution_count": null,
   "metadata": {},
   "outputs": [],
   "source": []
  }
 ],
 "metadata": {
  "kernelspec": {
   "display_name": "Python 3",
   "language": "python",
   "name": "python3"
  },
  "language_info": {
   "codemirror_mode": {
    "name": "ipython",
    "version": 3
   },
   "file_extension": ".py",
   "mimetype": "text/x-python",
   "name": "python",
   "nbconvert_exporter": "python",
   "pygments_lexer": "ipython3",
   "version": "3.6.7"
  }
 },
 "nbformat": 4,
 "nbformat_minor": 2
}
