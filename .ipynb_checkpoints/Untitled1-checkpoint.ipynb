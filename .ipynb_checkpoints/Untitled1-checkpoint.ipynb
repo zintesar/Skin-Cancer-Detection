{
 "cells": [
  {
   "cell_type": "code",
   "execution_count": 2,
   "metadata": {},
   "outputs": [
    {
     "name": "stdout",
     "output_type": "stream",
     "text": [
      "Epoch 1/20\n",
      "999/999 [==============================] - 36s 36ms/step - loss: 0.8735 - acc: 0.5495\n",
      "Epoch 2/20\n",
      "999/999 [==============================] - 35s 35ms/step - loss: 0.6197 - acc: 0.6216\n",
      "Epoch 3/20\n",
      "999/999 [==============================] - 35s 35ms/step - loss: 0.5426 - acc: 0.7127\n",
      "Epoch 4/20\n",
      "999/999 [==============================] - 35s 35ms/step - loss: 0.5276 - acc: 0.7297\n",
      "Epoch 5/20\n",
      "999/999 [==============================] - 35s 35ms/step - loss: 0.4942 - acc: 0.7588\n",
      "Epoch 6/20\n",
      "999/999 [==============================] - 35s 35ms/step - loss: 0.4667 - acc: 0.7828\n",
      "Epoch 7/20\n",
      "999/999 [==============================] - 35s 35ms/step - loss: 0.4168 - acc: 0.7968\n",
      "Epoch 8/20\n",
      "999/999 [==============================] - 35s 35ms/step - loss: 0.3705 - acc: 0.8288\n",
      "Epoch 9/20\n",
      "999/999 [==============================] - 36s 36ms/step - loss: 0.3220 - acc: 0.8579\n",
      "Epoch 10/20\n",
      "999/999 [==============================] - 36s 36ms/step - loss: 0.2808 - acc: 0.8949\n",
      "Epoch 11/20\n",
      "999/999 [==============================] - 35s 35ms/step - loss: 0.2592 - acc: 0.9029\n",
      "Epoch 12/20\n",
      "999/999 [==============================] - 35s 35ms/step - loss: 0.2056 - acc: 0.9189\n",
      "Epoch 13/20\n",
      "999/999 [==============================] - 35s 35ms/step - loss: 0.1682 - acc: 0.9339\n",
      "Epoch 14/20\n",
      "999/999 [==============================] - 36s 36ms/step - loss: 0.1647 - acc: 0.9419\n",
      "Epoch 15/20\n",
      "999/999 [==============================] - 35s 35ms/step - loss: 0.1481 - acc: 0.9459\n",
      "Epoch 16/20\n",
      "999/999 [==============================] - 36s 36ms/step - loss: 0.1922 - acc: 0.9389\n",
      "Epoch 17/20\n",
      "999/999 [==============================] - 35s 35ms/step - loss: 0.1134 - acc: 0.9600\n",
      "Epoch 18/20\n",
      "999/999 [==============================] - 35s 35ms/step - loss: 0.0646 - acc: 0.9820\n",
      "Epoch 19/20\n",
      "999/999 [==============================] - 35s 35ms/step - loss: 0.0464 - acc: 0.9900\n",
      "Epoch 20/20\n",
      "999/999 [==============================] - 35s 35ms/step - loss: 0.0643 - acc: 0.9840\n"
     ]
    }
   ],
   "source": [
    "import tensorflow as tf\n",
    "from tensorflow.keras.models import Sequential\n",
    "from tensorflow.keras.layers import Dense, Dropout, Activation, Flatten\n",
    "from tensorflow.keras.layers import Conv2D, MaxPooling2D\n",
    "from keras import metrics\n",
    "import pickle\n",
    "\n",
    "pickle_in = open(\"array.pickle\",\"rb\")\n",
    "X = pickle.load(pickle_in)\n",
    "\n",
    "pickle_in = open(\"category.pickle\",\"rb\")\n",
    "y = pickle.load(pickle_in)\n",
    "\n",
    "X = X/255.0\n",
    "\n",
    "model = Sequential()\n",
    "\n",
    "model.add(Conv2D(74, (3, 3), input_shape=X.shape[1:]))\n",
    "model.add(Activation('relu'))\n",
    "model.add(MaxPooling2D(pool_size=(2, 2)))\n",
    "\n",
    "model.add(Conv2D(74, (3, 3)))\n",
    "model.add(Activation('relu'))\n",
    "model.add(MaxPooling2D(pool_size=(2, 2)))\n",
    "\n",
    "model.add(Flatten()) \n",
    "model.add(Dense(74))\n",
    "\n",
    "model.add(Dense(1))\n",
    "model.add(Activation('sigmoid'))\n",
    "\n",
    "model.compile(loss='binary_crossentropy',\n",
    "              optimizer='adam',\n",
    "              metrics=['accuracy'])\n",
    " \n",
    "\n",
    "model.fit(X, y, batch_size=32, epochs=20)\n",
    "model.save('skincan_cnn.model')"
   ]
  },
  {
   "cell_type": "code",
   "execution_count": null,
   "metadata": {},
   "outputs": [],
   "source": []
  }
 ],
 "metadata": {
  "kernelspec": {
   "display_name": "Python 3",
   "language": "python",
   "name": "python3"
  },
  "language_info": {
   "codemirror_mode": {
    "name": "ipython",
    "version": 3
   },
   "file_extension": ".py",
   "mimetype": "text/x-python",
   "name": "python",
   "nbconvert_exporter": "python",
   "pygments_lexer": "ipython3",
   "version": "3.6.7"
  }
 },
 "nbformat": 4,
 "nbformat_minor": 2
}
